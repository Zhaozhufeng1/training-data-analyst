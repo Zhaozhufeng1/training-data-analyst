{
 "cells": [
  {
   "cell_type": "markdown",
   "metadata": {},
   "source": [
    "# Introducing the Keras Sequential API on Vertex AI Platform"
   ]
  },
  {
   "cell_type": "markdown",
   "metadata": {},
   "source": [
    "**Learning objectives**\n",
    "  1. Build a DNN model using the Keras Sequential API\n",
    "  1. Learn how to use feature columns in a Keras model\n",
    "  1. Learn how to train a model with Keras\n",
    "  1. Learn how to save/load, and deploy a Keras model on GCP\n",
    "  1. Learn how to deploy the Model to Vertex AI and make predictions with the Keras model"
   ]
  },
  {
   "cell_type": "markdown",
   "metadata": {},
   "source": [
    "## Introduction"
   ]
  },
  {
   "cell_type": "markdown",
   "metadata": {},
   "source": [
    "The [Keras sequential API](https://keras.io/models/sequential/) allows you to create Tensorflow models layer-by-layer. This is useful for building most kinds of machine learning models but it does not allow you to create models that share layers, re-use layers or have multiple inputs or outputs. \n",
    "\n",
    "In this lab, we'll see how to build a simple deep neural network model using the Keras sequential api and feature columns. Once we have trained our model, we will deploy it using Vertex AI and see how to call our model for online prediciton.\n",
    "\n",
    "Each learning objective will correspond to a __#TODO__ in the [student lab notebook](../labs/3_keras_sequential_api.ipynb) -- try to complete that notebook first before reviewing this solution notebook.\n"
   ]
  },
  {
   "cell_type": "code",
   "execution_count": null,
   "metadata": {},
   "outputs": [],
   "source": [
    "!sudo chown -R jupyter:jupyter /home/jupyter/training-data-analyst"
   ]
  },
  {
   "cell_type": "code",
   "execution_count": 1,
   "metadata": {},
   "outputs": [
    {
     "name": "stdout",
     "output_type": "stream",
     "text": [
      "Collecting google-cloud-bigquery==3.25.0\n",
      "  Downloading google_cloud_bigquery-3.25.0-py2.py3-none-any.whl (239 kB)\n",
      "\u001b[K     |████████████████████████████████| 239 kB 3.2 MB/s eta 0:00:01\n",
      "\u001b[?25hRequirement already satisfied: python-dateutil<3.0dev,>=2.7.2 in /Users/zhao/opt/anaconda3/lib/python3.8/site-packages (from google-cloud-bigquery==3.25.0) (2.8.1)\n",
      "Requirement already satisfied: google-resumable-media<3.0dev,>=0.6.0 in /Users/zhao/opt/anaconda3/lib/python3.8/site-packages (from google-cloud-bigquery==3.25.0) (2.7.1)\n",
      "Requirement already satisfied: google-api-core[grpc]!=2.0.*,!=2.1.*,!=2.10.*,!=2.2.*,!=2.3.*,!=2.4.*,!=2.5.*,!=2.6.*,!=2.7.*,!=2.8.*,!=2.9.*,<3.0.0dev,>=1.34.1 in /Users/zhao/opt/anaconda3/lib/python3.8/site-packages (from google-cloud-bigquery==3.25.0) (2.19.1)\n",
      "Requirement already satisfied: packaging>=20.0.0 in /Users/zhao/opt/anaconda3/lib/python3.8/site-packages (from google-cloud-bigquery==3.25.0) (20.9)\n",
      "Requirement already satisfied: google-cloud-core<3.0.0dev,>=1.6.0 in /Users/zhao/opt/anaconda3/lib/python3.8/site-packages (from google-cloud-bigquery==3.25.0) (2.4.1)\n",
      "Requirement already satisfied: requests<3.0.0dev,>=2.21.0 in /Users/zhao/opt/anaconda3/lib/python3.8/site-packages (from google-cloud-bigquery==3.25.0) (2.25.1)\n",
      "Requirement already satisfied: google-auth<3.0.0dev,>=2.14.1 in /Users/zhao/opt/anaconda3/lib/python3.8/site-packages (from google-cloud-bigquery==3.25.0) (2.32.0)\n",
      "Requirement already satisfied: googleapis-common-protos<2.0.dev0,>=1.56.2 in /Users/zhao/opt/anaconda3/lib/python3.8/site-packages (from google-api-core[grpc]!=2.0.*,!=2.1.*,!=2.10.*,!=2.2.*,!=2.3.*,!=2.4.*,!=2.5.*,!=2.6.*,!=2.7.*,!=2.8.*,!=2.9.*,<3.0.0dev,>=1.34.1->google-cloud-bigquery==3.25.0) (1.63.2)\n",
      "Requirement already satisfied: protobuf!=3.20.0,!=3.20.1,!=4.21.0,!=4.21.1,!=4.21.2,!=4.21.3,!=4.21.4,!=4.21.5,<6.0.0.dev0,>=3.19.5 in /Users/zhao/opt/anaconda3/lib/python3.8/site-packages (from google-api-core[grpc]!=2.0.*,!=2.1.*,!=2.10.*,!=2.2.*,!=2.3.*,!=2.4.*,!=2.5.*,!=2.6.*,!=2.7.*,!=2.8.*,!=2.9.*,<3.0.0dev,>=1.34.1->google-cloud-bigquery==3.25.0) (4.25.3)\n",
      "Requirement already satisfied: proto-plus<2.0.0dev,>=1.22.3 in /Users/zhao/opt/anaconda3/lib/python3.8/site-packages (from google-api-core[grpc]!=2.0.*,!=2.1.*,!=2.10.*,!=2.2.*,!=2.3.*,!=2.4.*,!=2.5.*,!=2.6.*,!=2.7.*,!=2.8.*,!=2.9.*,<3.0.0dev,>=1.34.1->google-cloud-bigquery==3.25.0) (1.24.0)\n",
      "Requirement already satisfied: grpcio<2.0dev,>=1.33.2 in /Users/zhao/opt/anaconda3/lib/python3.8/site-packages (from google-api-core[grpc]!=2.0.*,!=2.1.*,!=2.10.*,!=2.2.*,!=2.3.*,!=2.4.*,!=2.5.*,!=2.6.*,!=2.7.*,!=2.8.*,!=2.9.*,<3.0.0dev,>=1.34.1->google-cloud-bigquery==3.25.0) (1.65.1)\n",
      "Collecting grpcio-status<2.0.dev0,>=1.33.2\n",
      "  Downloading grpcio_status-1.65.1-py3-none-any.whl (14 kB)\n",
      "Requirement already satisfied: cachetools<6.0,>=2.0.0 in /Users/zhao/opt/anaconda3/lib/python3.8/site-packages (from google-auth<3.0.0dev,>=2.14.1->google-cloud-bigquery==3.25.0) (5.4.0)\n",
      "Requirement already satisfied: rsa<5,>=3.1.4 in /Users/zhao/opt/anaconda3/lib/python3.8/site-packages (from google-auth<3.0.0dev,>=2.14.1->google-cloud-bigquery==3.25.0) (4.9)\n",
      "Requirement already satisfied: pyasn1-modules>=0.2.1 in /Users/zhao/opt/anaconda3/lib/python3.8/site-packages (from google-auth<3.0.0dev,>=2.14.1->google-cloud-bigquery==3.25.0) (0.4.0)\n",
      "Requirement already satisfied: google-crc32c<2.0dev,>=1.0 in /Users/zhao/opt/anaconda3/lib/python3.8/site-packages (from google-resumable-media<3.0dev,>=0.6.0->google-cloud-bigquery==3.25.0) (1.5.0)\n",
      "Collecting protobuf!=3.20.0,!=3.20.1,!=4.21.0,!=4.21.1,!=4.21.2,!=4.21.3,!=4.21.4,!=4.21.5,<6.0.0.dev0,>=3.19.5\n",
      "  Downloading protobuf-5.27.2-cp38-abi3-macosx_10_9_universal2.whl (412 kB)\n",
      "\u001b[K     |████████████████████████████████| 412 kB 10.2 MB/s eta 0:00:01\n",
      "\u001b[?25hRequirement already satisfied: pyparsing>=2.0.2 in /Users/zhao/opt/anaconda3/lib/python3.8/site-packages (from packaging>=20.0.0->google-cloud-bigquery==3.25.0) (3.1.2)\n",
      "Requirement already satisfied: pyasn1<0.7.0,>=0.4.6 in /Users/zhao/opt/anaconda3/lib/python3.8/site-packages (from pyasn1-modules>=0.2.1->google-auth<3.0.0dev,>=2.14.1->google-cloud-bigquery==3.25.0) (0.6.0)\n",
      "Requirement already satisfied: six>=1.5 in /Users/zhao/opt/anaconda3/lib/python3.8/site-packages (from python-dateutil<3.0dev,>=2.7.2->google-cloud-bigquery==3.25.0) (1.15.0)\n",
      "Requirement already satisfied: certifi>=2017.4.17 in /Users/zhao/opt/anaconda3/lib/python3.8/site-packages (from requests<3.0.0dev,>=2.21.0->google-cloud-bigquery==3.25.0) (2020.12.5)\n",
      "Requirement already satisfied: idna<3,>=2.5 in /Users/zhao/opt/anaconda3/lib/python3.8/site-packages (from requests<3.0.0dev,>=2.21.0->google-cloud-bigquery==3.25.0) (2.10)\n",
      "Requirement already satisfied: chardet<5,>=3.0.2 in /Users/zhao/opt/anaconda3/lib/python3.8/site-packages (from requests<3.0.0dev,>=2.21.0->google-cloud-bigquery==3.25.0) (4.0.0)\n",
      "Requirement already satisfied: urllib3<1.27,>=1.21.1 in /Users/zhao/opt/anaconda3/lib/python3.8/site-packages (from requests<3.0.0dev,>=2.21.0->google-cloud-bigquery==3.25.0) (1.26.4)\n",
      "Installing collected packages: protobuf, grpcio-status, google-cloud-bigquery\n",
      "  Attempting uninstall: protobuf\n",
      "    Found existing installation: protobuf 4.25.3\n",
      "    Uninstalling protobuf-4.25.3:\n",
      "      Successfully uninstalled protobuf-4.25.3\n",
      "\u001b[31mERROR: pip's dependency resolver does not currently take into account all the packages that are installed. This behaviour is the source of the following dependency conflicts.\n",
      "tensorflow 2.13.1 requires protobuf!=4.21.0,!=4.21.1,!=4.21.2,!=4.21.3,!=4.21.4,!=4.21.5,<5.0.0dev,>=3.20.3, but you have protobuf 5.27.2 which is incompatible.\u001b[0m\n",
      "Successfully installed google-cloud-bigquery-3.25.0 grpcio-status-1.65.1 protobuf-5.27.2\n"
     ]
    }
   ],
   "source": [
    "!pip3 install google-cloud-bigquery==3.25.0 -U"
   ]
  },
  {
   "cell_type": "code",
   "execution_count": 2,
   "metadata": {},
   "outputs": [
    {
     "name": "stdout",
     "output_type": "stream",
     "text": [
      "Collecting google-cloud-aiplatform==1.59.0\n",
      "  Downloading google_cloud_aiplatform-1.59.0-py2.py3-none-any.whl (5.1 MB)\n",
      "\u001b[K     |████████████████████████████████| 5.1 MB 3.2 MB/s eta 0:00:01\n",
      "\u001b[?25hRequirement already satisfied: proto-plus<2.0.0dev,>=1.22.3 in /Users/zhao/opt/anaconda3/lib/python3.8/site-packages (from google-cloud-aiplatform==1.59.0) (1.24.0)\n",
      "Requirement already satisfied: google-cloud-storage<3.0.0dev,>=1.32.0 in /Users/zhao/opt/anaconda3/lib/python3.8/site-packages (from google-cloud-aiplatform==1.59.0) (2.17.0)\n",
      "Requirement already satisfied: packaging>=14.3 in /Users/zhao/opt/anaconda3/lib/python3.8/site-packages (from google-cloud-aiplatform==1.59.0) (20.9)\n",
      "Requirement already satisfied: google-cloud-bigquery!=3.20.0,<4.0.0dev,>=1.15.0 in /Users/zhao/opt/anaconda3/lib/python3.8/site-packages (from google-cloud-aiplatform==1.59.0) (3.25.0)\n",
      "Requirement already satisfied: google-auth<3.0.0dev,>=2.14.1 in /Users/zhao/opt/anaconda3/lib/python3.8/site-packages (from google-cloud-aiplatform==1.59.0) (2.32.0)\n",
      "Requirement already satisfied: google-api-core[grpc]!=2.0.*,!=2.1.*,!=2.2.*,!=2.3.*,!=2.4.*,!=2.5.*,!=2.6.*,!=2.7.*,<3.0.0dev,>=1.34.1 in /Users/zhao/opt/anaconda3/lib/python3.8/site-packages (from google-cloud-aiplatform==1.59.0) (2.19.1)\n",
      "Collecting protobuf!=3.20.0,!=3.20.1,!=4.21.0,!=4.21.1,!=4.21.2,!=4.21.3,!=4.21.4,!=4.21.5,<5.0.0dev,>=3.19.5\n",
      "  Downloading protobuf-4.25.4-cp37-abi3-macosx_10_9_universal2.whl (394 kB)\n",
      "\u001b[K     |████████████████████████████████| 394 kB 10.7 MB/s eta 0:00:01\n",
      "\u001b[?25hCollecting docstring-parser<1\n",
      "  Using cached docstring_parser-0.16-py3-none-any.whl (36 kB)\n",
      "Collecting google-cloud-resource-manager<3.0.0dev,>=1.3.3\n",
      "  Downloading google_cloud_resource_manager-1.12.4-py2.py3-none-any.whl (339 kB)\n",
      "\u001b[K     |████████████████████████████████| 339 kB 50.2 MB/s eta 0:00:01\n",
      "\u001b[?25hCollecting shapely<3.0.0dev\n",
      "  Downloading shapely-2.0.5-cp38-cp38-macosx_10_9_x86_64.whl (1.4 MB)\n",
      "\u001b[K     |████████████████████████████████| 1.4 MB 59.6 MB/s eta 0:00:01\n",
      "\u001b[?25hCollecting pydantic<3\n",
      "  Downloading pydantic-2.8.2-py3-none-any.whl (423 kB)\n",
      "\u001b[K     |████████████████████████████████| 423 kB 30.7 MB/s eta 0:00:01\n",
      "\u001b[?25hRequirement already satisfied: requests<3.0.0.dev0,>=2.18.0 in /Users/zhao/opt/anaconda3/lib/python3.8/site-packages (from google-api-core[grpc]!=2.0.*,!=2.1.*,!=2.2.*,!=2.3.*,!=2.4.*,!=2.5.*,!=2.6.*,!=2.7.*,<3.0.0dev,>=1.34.1->google-cloud-aiplatform==1.59.0) (2.25.1)\n",
      "Requirement already satisfied: googleapis-common-protos<2.0.dev0,>=1.56.2 in /Users/zhao/opt/anaconda3/lib/python3.8/site-packages (from google-api-core[grpc]!=2.0.*,!=2.1.*,!=2.2.*,!=2.3.*,!=2.4.*,!=2.5.*,!=2.6.*,!=2.7.*,<3.0.0dev,>=1.34.1->google-cloud-aiplatform==1.59.0) (1.63.2)\n",
      "Requirement already satisfied: grpcio<2.0dev,>=1.33.2 in /Users/zhao/opt/anaconda3/lib/python3.8/site-packages (from google-api-core[grpc]!=2.0.*,!=2.1.*,!=2.2.*,!=2.3.*,!=2.4.*,!=2.5.*,!=2.6.*,!=2.7.*,<3.0.0dev,>=1.34.1->google-cloud-aiplatform==1.59.0) (1.65.1)\n",
      "Requirement already satisfied: grpcio-status<2.0.dev0,>=1.33.2 in /Users/zhao/opt/anaconda3/lib/python3.8/site-packages (from google-api-core[grpc]!=2.0.*,!=2.1.*,!=2.2.*,!=2.3.*,!=2.4.*,!=2.5.*,!=2.6.*,!=2.7.*,<3.0.0dev,>=1.34.1->google-cloud-aiplatform==1.59.0) (1.65.1)\n",
      "Requirement already satisfied: pyasn1-modules>=0.2.1 in /Users/zhao/opt/anaconda3/lib/python3.8/site-packages (from google-auth<3.0.0dev,>=2.14.1->google-cloud-aiplatform==1.59.0) (0.4.0)\n",
      "Requirement already satisfied: rsa<5,>=3.1.4 in /Users/zhao/opt/anaconda3/lib/python3.8/site-packages (from google-auth<3.0.0dev,>=2.14.1->google-cloud-aiplatform==1.59.0) (4.9)\n",
      "Requirement already satisfied: cachetools<6.0,>=2.0.0 in /Users/zhao/opt/anaconda3/lib/python3.8/site-packages (from google-auth<3.0.0dev,>=2.14.1->google-cloud-aiplatform==1.59.0) (5.4.0)\n",
      "Requirement already satisfied: google-cloud-core<3.0.0dev,>=1.6.0 in /Users/zhao/opt/anaconda3/lib/python3.8/site-packages (from google-cloud-bigquery!=3.20.0,<4.0.0dev,>=1.15.0->google-cloud-aiplatform==1.59.0) (2.4.1)\n",
      "Requirement already satisfied: python-dateutil<3.0dev,>=2.7.2 in /Users/zhao/opt/anaconda3/lib/python3.8/site-packages (from google-cloud-bigquery!=3.20.0,<4.0.0dev,>=1.15.0->google-cloud-aiplatform==1.59.0) (2.8.1)\n",
      "Requirement already satisfied: google-resumable-media<3.0dev,>=0.6.0 in /Users/zhao/opt/anaconda3/lib/python3.8/site-packages (from google-cloud-bigquery!=3.20.0,<4.0.0dev,>=1.15.0->google-cloud-aiplatform==1.59.0) (2.7.1)\n",
      "Collecting grpc-google-iam-v1<1.0.0dev,>=0.12.4\n",
      "  Downloading grpc_google_iam_v1-0.13.1-py2.py3-none-any.whl (24 kB)\n",
      "Requirement already satisfied: google-crc32c<2.0dev,>=1.0 in /Users/zhao/opt/anaconda3/lib/python3.8/site-packages (from google-cloud-storage<3.0.0dev,>=1.32.0->google-cloud-aiplatform==1.59.0) (1.5.0)\n",
      "Collecting grpcio-status<2.0.dev0,>=1.33.2\n",
      "  Downloading grpcio_status-1.64.1-py3-none-any.whl (14 kB)\n",
      "  Downloading grpcio_status-1.64.0-py3-none-any.whl (14 kB)\n",
      "  Downloading grpcio_status-1.63.0-py3-none-any.whl (14 kB)\n",
      "  Downloading grpcio_status-1.62.2-py3-none-any.whl (14 kB)\n",
      "Requirement already satisfied: pyparsing>=2.0.2 in /Users/zhao/opt/anaconda3/lib/python3.8/site-packages (from packaging>=14.3->google-cloud-aiplatform==1.59.0) (3.1.2)\n",
      "Requirement already satisfied: pyasn1<0.7.0,>=0.4.6 in /Users/zhao/opt/anaconda3/lib/python3.8/site-packages (from pyasn1-modules>=0.2.1->google-auth<3.0.0dev,>=2.14.1->google-cloud-aiplatform==1.59.0) (0.6.0)\n",
      "Collecting typing-extensions>=4.6.1\n",
      "  Using cached typing_extensions-4.12.2-py3-none-any.whl (37 kB)\n",
      "Collecting pydantic-core==2.20.1\n",
      "  Downloading pydantic_core-2.20.1-cp38-cp38-macosx_10_12_x86_64.whl (1.8 MB)\n",
      "\u001b[K     |████████████████████████████████| 1.8 MB 30.4 MB/s eta 0:00:01\n",
      "\u001b[?25hCollecting annotated-types>=0.4.0\n",
      "  Downloading annotated_types-0.7.0-py3-none-any.whl (13 kB)\n",
      "Requirement already satisfied: six>=1.5 in /Users/zhao/opt/anaconda3/lib/python3.8/site-packages (from python-dateutil<3.0dev,>=2.7.2->google-cloud-bigquery!=3.20.0,<4.0.0dev,>=1.15.0->google-cloud-aiplatform==1.59.0) (1.15.0)\n",
      "Requirement already satisfied: idna<3,>=2.5 in /Users/zhao/opt/anaconda3/lib/python3.8/site-packages (from requests<3.0.0.dev0,>=2.18.0->google-api-core[grpc]!=2.0.*,!=2.1.*,!=2.2.*,!=2.3.*,!=2.4.*,!=2.5.*,!=2.6.*,!=2.7.*,<3.0.0dev,>=1.34.1->google-cloud-aiplatform==1.59.0) (2.10)\n",
      "Requirement already satisfied: urllib3<1.27,>=1.21.1 in /Users/zhao/opt/anaconda3/lib/python3.8/site-packages (from requests<3.0.0.dev0,>=2.18.0->google-api-core[grpc]!=2.0.*,!=2.1.*,!=2.2.*,!=2.3.*,!=2.4.*,!=2.5.*,!=2.6.*,!=2.7.*,<3.0.0dev,>=1.34.1->google-cloud-aiplatform==1.59.0) (1.26.4)\n",
      "Requirement already satisfied: certifi>=2017.4.17 in /Users/zhao/opt/anaconda3/lib/python3.8/site-packages (from requests<3.0.0.dev0,>=2.18.0->google-api-core[grpc]!=2.0.*,!=2.1.*,!=2.2.*,!=2.3.*,!=2.4.*,!=2.5.*,!=2.6.*,!=2.7.*,<3.0.0dev,>=1.34.1->google-cloud-aiplatform==1.59.0) (2020.12.5)\n",
      "Requirement already satisfied: chardet<5,>=3.0.2 in /Users/zhao/opt/anaconda3/lib/python3.8/site-packages (from requests<3.0.0.dev0,>=2.18.0->google-api-core[grpc]!=2.0.*,!=2.1.*,!=2.2.*,!=2.3.*,!=2.4.*,!=2.5.*,!=2.6.*,!=2.7.*,<3.0.0dev,>=1.34.1->google-cloud-aiplatform==1.59.0) (4.0.0)\n",
      "Requirement already satisfied: numpy<3,>=1.14 in /Users/zhao/opt/anaconda3/lib/python3.8/site-packages (from shapely<3.0.0dev->google-cloud-aiplatform==1.59.0) (1.22.4)\n",
      "Installing collected packages: protobuf, typing-extensions, grpcio-status, pydantic-core, grpc-google-iam-v1, annotated-types, shapely, pydantic, google-cloud-resource-manager, docstring-parser, google-cloud-aiplatform\n",
      "  Attempting uninstall: protobuf\n",
      "    Found existing installation: protobuf 5.27.2\n",
      "    Uninstalling protobuf-5.27.2:\n",
      "      Successfully uninstalled protobuf-5.27.2\n",
      "  Attempting uninstall: typing-extensions\n",
      "    Found existing installation: typing-extensions 4.5.0\n",
      "    Uninstalling typing-extensions-4.5.0:\n",
      "      Successfully uninstalled typing-extensions-4.5.0\n",
      "  Attempting uninstall: grpcio-status\n",
      "    Found existing installation: grpcio-status 1.65.1\n",
      "    Uninstalling grpcio-status-1.65.1:\n",
      "      Successfully uninstalled grpcio-status-1.65.1\n",
      "\u001b[31mERROR: pip's dependency resolver does not currently take into account all the packages that are installed. This behaviour is the source of the following dependency conflicts.\n",
      "tensorflow 2.13.1 requires typing-extensions<4.6.0,>=3.6.6, but you have typing-extensions 4.12.2 which is incompatible.\u001b[0m\n",
      "Successfully installed annotated-types-0.7.0 docstring-parser-0.16 google-cloud-aiplatform-1.59.0 google-cloud-resource-manager-1.12.4 grpc-google-iam-v1-0.13.1 grpcio-status-1.62.2 protobuf-4.25.4 pydantic-2.8.2 pydantic-core-2.20.1 shapely-2.0.5 typing-extensions-4.12.2\n"
     ]
    }
   ],
   "source": [
    "!pip install google-cloud-aiplatform==1.59.0"
   ]
  },
  {
   "cell_type": "code",
   "execution_count": 3,
   "metadata": {},
   "outputs": [
    {
     "name": "stdout",
     "output_type": "stream",
     "text": [
      "Found existing installation: shapely 2.0.5\n",
      "Uninstalling shapely-2.0.5:\n",
      "  Successfully uninstalled shapely-2.0.5\n",
      "\u001b[33mWARNING: Skipping pygeos as it is not installed.\u001b[0m\n",
      "\u001b[33mWARNING: Skipping geopandas as it is not installed.\u001b[0m\n",
      "Collecting shapely==1.8.5.post1\n",
      "  Downloading Shapely-1.8.5.post1-cp38-cp38-macosx_10_9_x86_64.whl (1.2 MB)\n",
      "\u001b[K     |████████████████████████████████| 1.2 MB 3.3 MB/s eta 0:00:01\n",
      "\u001b[?25hCollecting pygeos==0.12.0\n",
      "  Downloading pygeos-0.12.0-cp38-cp38-macosx_10_9_x86_64.whl (1.2 MB)\n",
      "\u001b[K     |████████████████████████████████| 1.2 MB 60.0 MB/s eta 0:00:01\n",
      "\u001b[?25hCollecting geopandas==0.10.2\n",
      "  Downloading geopandas-0.10.2-py2.py3-none-any.whl (1.0 MB)\n",
      "\u001b[K     |████████████████████████████████| 1.0 MB 27.0 MB/s eta 0:00:01\n",
      "\u001b[?25hCollecting pyproj>=2.2.0\n",
      "  Downloading pyproj-3.5.0-cp38-cp38-macosx_10_9_x86_64.whl (8.5 MB)\n",
      "\u001b[K     |████████████████████████████████| 8.5 MB 32.4 MB/s eta 0:00:01\n",
      "\u001b[?25hCollecting fiona>=1.8\n",
      "  Downloading fiona-1.9.6-cp38-cp38-macosx_10_15_x86_64.whl (18.7 MB)\n",
      "\u001b[K     |████████████████████████████████| 18.7 MB 28.7 MB/s eta 0:00:01\n",
      "\u001b[?25hRequirement already satisfied: pandas>=0.25.0 in /Users/zhao/opt/anaconda3/lib/python3.8/site-packages (from geopandas==0.10.2) (1.2.4)\n",
      "Requirement already satisfied: numpy>=1.13 in /Users/zhao/opt/anaconda3/lib/python3.8/site-packages (from pygeos==0.12.0) (1.22.4)\n",
      "Requirement already satisfied: importlib-metadata in /Users/zhao/opt/anaconda3/lib/python3.8/site-packages (from fiona>=1.8->geopandas==0.10.2) (8.0.0)\n",
      "Collecting cligj>=0.5\n",
      "  Downloading cligj-0.7.2-py3-none-any.whl (7.1 kB)\n",
      "Requirement already satisfied: attrs>=19.2.0 in /Users/zhao/opt/anaconda3/lib/python3.8/site-packages (from fiona>=1.8->geopandas==0.10.2) (20.3.0)\n",
      "Collecting click~=8.0\n",
      "  Using cached click-8.1.7-py3-none-any.whl (97 kB)\n",
      "Requirement already satisfied: six in /Users/zhao/opt/anaconda3/lib/python3.8/site-packages (from fiona>=1.8->geopandas==0.10.2) (1.15.0)\n",
      "Collecting click-plugins>=1.0\n",
      "  Downloading click_plugins-1.1.1-py2.py3-none-any.whl (7.5 kB)\n",
      "Requirement already satisfied: certifi in /Users/zhao/opt/anaconda3/lib/python3.8/site-packages (from fiona>=1.8->geopandas==0.10.2) (2020.12.5)\n",
      "Requirement already satisfied: python-dateutil>=2.7.3 in /Users/zhao/opt/anaconda3/lib/python3.8/site-packages (from pandas>=0.25.0->geopandas==0.10.2) (2.8.1)\n",
      "Requirement already satisfied: pytz>=2017.3 in /Users/zhao/opt/anaconda3/lib/python3.8/site-packages (from pandas>=0.25.0->geopandas==0.10.2) (2021.1)\n",
      "Requirement already satisfied: zipp>=0.5 in /Users/zhao/opt/anaconda3/lib/python3.8/site-packages (from importlib-metadata->fiona>=1.8->geopandas==0.10.2) (3.4.1)\n",
      "Installing collected packages: click, cligj, click-plugins, shapely, pyproj, fiona, pygeos, geopandas\n",
      "  Attempting uninstall: click\n",
      "    Found existing installation: click 7.1.2\n",
      "    Uninstalling click-7.1.2:\n",
      "      Successfully uninstalled click-7.1.2\n",
      "Successfully installed click-8.1.7 click-plugins-1.1.1 cligj-0.7.2 fiona-1.9.6 geopandas-0.10.2 pygeos-0.12.0 pyproj-3.5.0 shapely-1.8.5.post1\n"
     ]
    }
   ],
   "source": [
    "!pip uninstall -y shapely pygeos geopandas\n",
    "# Install specific versions of shapely, pygeos, and geopandas known to be compatible\n",
    "!pip install shapely==1.8.5.post1 pygeos==0.12.0 geopandas==0.10.2"
   ]
  },
  {
   "cell_type": "markdown",
   "metadata": {},
   "source": [
    "**Note:** Please restart the kernel by clicking **Kernel > Restart Kernel**"
   ]
  },
  {
   "cell_type": "markdown",
   "metadata": {},
   "source": [
    "Start by importing the necessary libraries for this lab."
   ]
  },
  {
   "cell_type": "code",
   "execution_count": 4,
   "metadata": {},
   "outputs": [
    {
     "name": "stderr",
     "output_type": "stream",
     "text": [
      "/Users/zhao/opt/anaconda3/lib/python3.8/site-packages/geopandas/_compat.py:111: UserWarning: The Shapely GEOS version (3.10.3-CAPI-1.16.1) is incompatible with the GEOS version PyGEOS was compiled with (3.10.1-CAPI-1.16.0). Conversions between both will be slow.\n",
      "  warnings.warn(\n"
     ]
    },
    {
     "name": "stdout",
     "output_type": "stream",
     "text": [
      "2.13.1\n"
     ]
    }
   ],
   "source": [
    "import datetime\n",
    "import os\n",
    "import shutil\n",
    "\n",
    "import numpy as np\n",
    "import pandas as pd\n",
    "import tensorflow as tf\n",
    "from google.cloud import aiplatform\n",
    "from matplotlib import pyplot as plt\n",
    "from tensorflow import keras\n",
    "from tensorflow.keras.callbacks import TensorBoard\n",
    "from tensorflow.keras.layers import Dense, DenseFeatures\n",
    "from tensorflow.keras.models import Sequential\n",
    "\n",
    "print(tf.__version__)\n",
    "%matplotlib inline"
   ]
  },
  {
   "cell_type": "markdown",
   "metadata": {},
   "source": [
    "## Load raw data"
   ]
  },
  {
   "cell_type": "markdown",
   "metadata": {},
   "source": [
    "We will use the taxifare dataset, using the CSV files that we created in the first notebook of this sequence. Those files have been saved into `../data`."
   ]
  },
  {
   "cell_type": "code",
   "execution_count": 5,
   "metadata": {},
   "outputs": [
    {
     "name": "stdout",
     "output_type": "stream",
     "text": [
      "-rw-r--r--  1 zhao  staff   123590 Jul 22 10:51 ../data/taxi-test.csv\n",
      "-rw-r--r--  1 zhao  staff  2186310 Jul 22 10:51 ../data/taxi-traffic-test.csv\n",
      "-rw-r--r--  1 zhao  staff  9713118 Jul 22 10:51 ../data/taxi-traffic-train.csv\n",
      "-rw-r--r--  1 zhao  staff  2036826 Jul 22 10:51 ../data/taxi-traffic-valid.csv\n",
      "-rw-r--r--  1 zhao  staff   579055 Jul 22 10:51 ../data/taxi-train.csv\n",
      "-rw-r--r--  1 zhao  staff   123114 Jul 22 10:51 ../data/taxi-valid.csv\n"
     ]
    }
   ],
   "source": [
    "!ls -l ../data/*.csv"
   ]
  },
  {
   "cell_type": "code",
   "execution_count": 6,
   "metadata": {},
   "outputs": [
    {
     "name": "stdout",
     "output_type": "stream",
     "text": [
      "==> ../data/taxi-test.csv <==\n",
      "6.0,2013-03-27 03:35:00 UTC,-73.977672,40.784052,-73.965332,40.801025,2,0\n",
      "19.3,2012-05-10 18:43:16 UTC,-73.954366,40.778924,-74.004094,40.723104,1,1\n",
      "7.5,2014-05-20 23:09:00 UTC,-73.999165,40.738377,-74.003473,40.723862,2,2\n",
      "12.5,2015-02-23 19:51:31 UTC,-73.9652099609375,40.76948165893555,-73.98949432373047,40.739742279052734,1,3\n",
      "10.9,2011-03-19 03:32:00 UTC,-73.99259,40.742957,-73.989908,40.711053,1,4\n",
      "7.0,2012-09-18 12:51:11 UTC,-73.971195,40.751566,-73.975922,40.756361,1,5\n",
      "19.0,2014-05-20 23:09:00 UTC,-73.998392,40.74517,-73.939845,40.74908,1,6\n",
      "8.9,2012-07-18 08:46:08 UTC,-73.997638,40.756541,-73.973303,40.762019,1,7\n",
      "4.5,2010-07-11 20:39:08 UTC,-73.976738,40.751321,-73.986671,40.74883,1,8\n",
      "7.0,2013-12-12 02:16:40 UTC,-73.985024,40.767537,-73.981273,40.779302,1,9\n",
      "\n",
      "==> ../data/taxi-traffic-test.csv <==\n",
      "15.7,6,12,-73.990072,40.758199,-73.974686,40.742004,2089\n",
      "6.1,7,2,-73.95647,40.771226,-73.971845,40.750089,1738\n",
      "4.1,6,18,-73.987871,40.759855,-73.996375,40.763728,2971\n",
      "5.7,2,18,-73.974177,40.761154,-73.980953,40.769357,2320\n",
      "7.4,4,23,-73.924908,40.741879,-73.897524,40.747867,1491\n",
      "20.5,1,15,-73.957528,40.766847,-73.870813,40.774044,1794\n",
      "6.5,6,9,-73.996553,40.725558,-73.992503,40.737248,2341\n",
      "4.1,4,11,-73.98353,40.746821000000004,-73.976831,40.751082000000004,2329\n",
      "10.5,3,18,-73.863998,40.770439,-73.91671099999999,40.773011,2318\n",
      "10.1,6,1,-73.979685,40.727247999999996,-73.952508,40.772492,1455\n",
      "\n",
      "==> ../data/taxi-traffic-train.csv <==\n",
      "6.1,2,0,-73.98689499999999,40.729723,-74.00631,40.739407,1129\n",
      "9.7,7,0,-73.94578299999999,40.777807,-73.97539,40.757712,2876\n",
      "5.3,6,0,-74.00644,40.739349,-73.999379,40.731804,3950\n",
      "7.3,5,0,-73.96611800000001,40.753983000000005,-73.945605,40.782802000000004,1334\n",
      "6.5,7,0,-73.974153,40.762767,-73.989152,40.742727,2623\n",
      "22.9,1,0,-73.977188,40.774063,-73.962647,40.654768,2833\n",
      "22.9,2,0,-74.00188,40.745946999999994,-73.968497,40.639375,2002\n",
      "6.1,3,0,-73.994051,40.751077,-73.977333,40.778875,661\n",
      "5.3,5,0,-73.980898,40.744515,-73.973383,40.753496999999996,1938\n",
      "6.5,7,0,-74.00540600000001,40.708533,-74.005498,40.725617,2781\n",
      "\n",
      "==> ../data/taxi-traffic-valid.csv <==\n",
      "7.7,2,11,-73.97463,40.742118,-73.98544,40.760585999999996,1059\n",
      "30.1,7,1,-73.956921,40.777588,-73.965109,40.673271,2225\n",
      "7.7,6,13,-73.98073199999999,40.742109,-73.96415400000001,40.764891999999996,1994\n",
      "24.67,4,4,-73.953387,40.822733,-73.878697,40.755373,321\n",
      "7.7,2,1,-73.982304,40.723572,-73.972778,40.74928,1115\n",
      "8.1,5,18,-73.98474300000001,40.749171999999994,-74.00232,40.72825,2697\n",
      "6.1,4,1,-73.983588,40.72224,-73.997302,40.720786,868\n",
      "19.07,3,1,-73.94446500000001,40.807284,-73.876339,40.763073999999996,711\n",
      "12.5,4,10,-73.98696899999999,40.722343,-74.01621,40.715067,1990\n",
      "5.7,7,18,-74.007972,40.738759,-73.991973,40.73704,2048\n",
      "\n",
      "==> ../data/taxi-train.csv <==\n",
      "11.3,2011-01-28 20:42:59 UTC,-73.999022,40.739146,-73.990369,40.717866,1,0\n",
      "7.7,2011-06-27 04:28:06 UTC,-73.987443,40.729221,-73.979013,40.758641,1,1\n",
      "10.5,2011-04-03 00:54:53 UTC,-73.982539,40.735725,-73.954797,40.778388,1,2\n",
      "16.2,2009-04-10 04:11:56 UTC,-74.001945,40.740505,-73.91385,40.758559,1,3\n",
      "33.5,2014-02-24 18:22:00 UTC,-73.993372,40.753382,-73.8609,40.732897,2,4\n",
      "6.9,2011-12-10 00:25:23 UTC,-73.996237,40.721848,-73.989416,40.718052,1,5\n",
      "6.1,2012-09-01 14:30:19 UTC,-73.977048,40.758461,-73.984899,40.744693,2,6\n",
      "9.5,2012-11-08 13:28:07 UTC,-73.969402,40.757545,-73.950049,40.776079,1,7\n",
      "9.0,2014-07-15 11:37:25 UTC,-73.979318,40.760949,-73.95767,40.773724,1,8\n",
      "3.3,2009-11-09 18:06:58 UTC,-73.955675,40.779154,-73.961172,40.772368,1,9\n",
      "\n",
      "==> ../data/taxi-valid.csv <==\n",
      "5.3,2012-01-03 19:21:35 UTC,-73.962627,40.763214,-73.973485,40.753353,1,0\n",
      "25.3,2010-09-27 07:30:15 UTC,-73.965799,40.794243,-73.927134,40.852261,3,1\n",
      "27.5,2015-05-19 00:40:02 UTC,-73.86344146728516,40.76899719238281,-73.96058654785156,40.76129913330078,1,2\n",
      "5.7,2010-04-29 12:28:00 UTC,-73.989255,40.738912,-73.97558,40.749172,1,3\n",
      "11.5,2013-06-23 06:08:09 UTC,-73.99731,40.763735,-73.955657,40.768141,1,4\n",
      "18.0,2014-10-14 18:52:03 UTC,-73.997995,40.761638,-74.008985,40.712442,1,5\n",
      "4.9,2010-04-29 12:28:00 UTC,-73.977315,40.766182,-73.970845,40.761462,5,6\n",
      "32.33,2014-02-24 18:22:00 UTC,-73.985358,40.761352,-73.92427,40.699145,1,7\n",
      "17.0,2015-03-26 02:48:58 UTC,-73.93981170654297,40.846473693847656,-73.97361755371094,40.786983489990234,1,8\n",
      "12.5,2013-04-09 09:39:13 UTC,-73.977323,40.753934,-74.00719,40.741472,1,9\n"
     ]
    }
   ],
   "source": [
    "!head ../data/taxi*.csv"
   ]
  },
  {
   "cell_type": "markdown",
   "metadata": {},
   "source": [
    "## Use tf.data to read the CSV files"
   ]
  },
  {
   "cell_type": "markdown",
   "metadata": {},
   "source": [
    "We wrote these functions for reading data from the csv files above in the [previous notebook](./2a_dataset_api.ipynb)."
   ]
  },
  {
   "cell_type": "code",
   "execution_count": 7,
   "metadata": {},
   "outputs": [],
   "source": [
    "CSV_COLUMNS = [\n",
    "    \"fare_amount\",\n",
    "    \"pickup_datetime\",\n",
    "    \"pickup_longitude\",\n",
    "    \"pickup_latitude\",\n",
    "    \"dropoff_longitude\",\n",
    "    \"dropoff_latitude\",\n",
    "    \"passenger_count\",\n",
    "    \"key\",\n",
    "]\n",
    "LABEL_COLUMN = \"fare_amount\"\n",
    "DEFAULTS = [[0.0], [\"na\"], [0.0], [0.0], [0.0], [0.0], [0.0], [\"na\"]]\n",
    "UNWANTED_COLS = [\"pickup_datetime\", \"key\"]\n",
    "\n",
    "\n",
    "def features_and_labels(row_data):\n",
    "    label = row_data.pop(LABEL_COLUMN)\n",
    "    features = row_data\n",
    "\n",
    "    for unwanted_col in UNWANTED_COLS:\n",
    "        features.pop(unwanted_col)\n",
    "\n",
    "    return features, label\n",
    "\n",
    "\n",
    "def create_dataset(pattern, batch_size=1, mode=\"eval\"):\n",
    "    dataset = tf.data.experimental.make_csv_dataset(\n",
    "        pattern, batch_size, CSV_COLUMNS, DEFAULTS\n",
    "    )\n",
    "\n",
    "    dataset = dataset.map(features_and_labels)\n",
    "\n",
    "    if mode == \"train\":\n",
    "        dataset = dataset.shuffle(buffer_size=1000).repeat()\n",
    "\n",
    "    # take advantage of multi-threading; 1=AUTOTUNE\n",
    "    dataset = dataset.prefetch(1)\n",
    "    return dataset"
   ]
  },
  {
   "cell_type": "markdown",
   "metadata": {},
   "source": [
    "## Build a simple keras DNN model"
   ]
  },
  {
   "cell_type": "markdown",
   "metadata": {},
   "source": [
    "We will use feature columns to connect our raw data to our keras DNN model. Feature columns make it easy to perform common types of feature engineering on your raw data. For example, you can one-hot encode categorical data, create feature crosses, embeddings and more. We'll cover these in more detail later in the course, but if you want to a sneak peak browse the official TensorFlow [feature columns guide](https://www.tensorflow.org/guide/feature_columns).\n",
    "\n",
    "In our case we won't do any feature engineering. However, we still need to create a list of feature columns to specify the numeric values which will be passed on to our model. To do this, we use `tf.feature_column.numeric_column()`\n",
    "\n",
    "We use a python dictionary comprehension to create the feature columns for our model, which is just an elegant alternative to a for loop."
   ]
  },
  {
   "cell_type": "code",
   "execution_count": 10,
   "metadata": {},
   "outputs": [],
   "source": [
    "INPUT_COLS = [\n",
    "    \"pickup_longitude\",\n",
    "    \"pickup_latitude\",\n",
    "    \"dropoff_longitude\",\n",
    "    \"dropoff_latitude\",\n",
    "    \"passenger_count\",\n",
    "]\n",
    "\n",
    "# Create input layer of feature columns\n",
    "\n",
    "# TODO 1\n",
    "feature_columns = {\n",
    "    colname: tf.feature_column.numeric_column(colname) for colname in INPUT_COLS\n",
    "}"
   ]
  },
  {
   "cell_type": "markdown",
   "metadata": {},
   "source": [
    "Next, we create the DNN model. The Sequential model is a linear stack of layers and when building a model using the Sequential API, you configure each layer of the model in turn. Once all the layers have been added, you compile the model. "
   ]
  },
  {
   "cell_type": "code",
   "execution_count": 11,
   "metadata": {},
   "outputs": [],
   "source": [
    "# Build a keras DNN model using Sequential API\n",
    "\n",
    "# TODO 2a\n",
    "model = Sequential(\n",
    "    [\n",
    "        DenseFeatures(feature_columns=feature_columns.values()),\n",
    "        Dense(units=32, activation=\"relu\", name=\"h1\"),\n",
    "        Dense(units=8, activation=\"relu\", name=\"h2\"),\n",
    "        Dense(units=1, activation=\"linear\", name=\"output\"),\n",
    "    ]\n",
    ")"
   ]
  },
  {
   "cell_type": "markdown",
   "metadata": {},
   "source": [
    "Next, to prepare the model for training, you must configure the learning process. This is done using the compile method. The compile method takes three arguments:\n",
    "\n",
    "* An optimizer. This could be the string identifier of an existing optimizer (such as `rmsprop` or `adagrad`), or an instance of the [Optimizer class](https://www.tensorflow.org/versions/r2.0/api_docs/python/tf/keras/optimizers).\n",
    "* A loss function. This is the objective that the model will try to minimize. It can be the string identifier of an existing loss function from the [Losses class](https://www.tensorflow.org/versions/r2.0/api_docs/python/tf/keras/losses) (such as categorical_crossentropy or mse), or it can be a custom objective function.\n",
    "* A list of metrics. For any machine learning problem you will want a set of metrics to evaluate your model. A metric could be the string identifier of an existing metric or a custom metric function.\n",
    "\n",
    "We will add an additional custom metric called `rmse` to our list of metrics which will return the root mean square error. "
   ]
  },
  {
   "cell_type": "code",
   "execution_count": 14,
   "metadata": {},
   "outputs": [],
   "source": [
    "# TODO 2b\n",
    "# Create a custom evalution metric\n",
    "def rmse(y_true, y_pred):\n",
    "    return tf.sqrt(tf.reduce_mean(tf.square(y_pred - y_true)))\n",
    "\n",
    "\n",
    "# Compile the keras model\n",
    "model.compile(optimizer=\"adam\", loss=\"mse\", metrics=[rmse, \"mse\"])"
   ]
  },
  {
   "cell_type": "markdown",
   "metadata": {},
   "source": [
    "## Train the model"
   ]
  },
  {
   "cell_type": "markdown",
   "metadata": {},
   "source": [
    "To train your model, Keras provides three functions that can be used:\n",
    " 1. `.fit()` for training a model for a fixed number of epochs (iterations on a dataset).\n",
    " 2. `.fit_generator()` for training a model on data yielded batch-by-batch by a generator\n",
    " 3. `.train_on_batch()` runs a single gradient update on a single batch of data. \n",
    " \n",
    "The `.fit()` function works well for small datasets which can fit entirely in memory. However, for large datasets (or if you need to manipulate the training data on the fly via data augmentation, etc) you will need to use `.fit_generator()` instead. The `.train_on_batch()` method is for more fine-grained control over training and accepts only a single batch of data.\n",
    "\n",
    "The taxifare dataset we sampled is small enough to fit in memory, so can we could use `.fit` to train our model. Our `create_dataset` function above generates batches of training examples, so we could also use `.fit_generator`. In fact, when calling `.fit` the method inspects the data, and if it's a generator (as our dataset is) it will invoke automatically `.fit_generator` for training. \n",
    "\n",
    "We start by setting up some parameters for our training job and create the data generators for the training and validation data.\n",
    "\n",
    "We refer you the the blog post [ML Design Pattern #3: Virtual Epochs](https://medium.com/google-cloud/ml-design-pattern-3-virtual-epochs-f842296de730) for further details on why express the training in terms of `NUM_TRAIN_EXAMPLES` and `NUM_EVALS` and why, in this training code, the number of epochs is really equal to the number of evaluations we perform."
   ]
  },
  {
   "cell_type": "code",
   "execution_count": 12,
   "metadata": {},
   "outputs": [],
   "source": [
    "TRAIN_BATCH_SIZE = 1000\n",
    "NUM_TRAIN_EXAMPLES = 10000 * 5  # training dataset will repeat, wrap around\n",
    "NUM_EVALS = 50  # how many times to evaluate\n",
    "NUM_EVAL_EXAMPLES = 10000  # enough to get a reasonable sample\n",
    "\n",
    "trainds = create_dataset(\n",
    "    pattern=\"../data/taxi-train*\", batch_size=TRAIN_BATCH_SIZE, mode=\"train\"\n",
    ")\n",
    "\n",
    "evalds = create_dataset(\n",
    "    pattern=\"../data/taxi-valid*\", batch_size=1000, mode=\"eval\"\n",
    ").take(NUM_EVAL_EXAMPLES // 1000)"
   ]
  },
  {
   "cell_type": "markdown",
   "metadata": {},
   "source": [
    "There are various arguments you can set when calling the [.fit method](https://www.tensorflow.org/versions/r2.0/api_docs/python/tf/keras/Model#fit). Here `x` specifies the input data which in our case is a `tf.data` dataset returning a tuple of (inputs, targets). The `steps_per_epoch` parameter is used to mark the end of training for a single epoch. Here we are training for NUM_EVALS epochs. Lastly, for the `callback` argument we specify a Tensorboard callback so we can inspect Tensorboard after training. "
   ]
  },
  {
   "cell_type": "code",
   "execution_count": 29,
   "metadata": {},
   "outputs": [
    {
     "name": "stdout",
     "output_type": "stream",
     "text": [
      "CPU times: user 1e+03 ns, sys: 4 µs, total: 5 µs\n",
      "Wall time: 15 µs\n",
      "1\n",
      "Epoch 1/50\n",
      "1/1 [==============================] - 8s 8s/step - loss: 94.3355 - rmse: 9.7126 - mse: 94.3355 - val_loss: 112.0873 - val_rmse: 10.5735 - val_mse: 112.0873\n",
      "Epoch 2/50\n",
      "1/1 [==============================] - 0s 171ms/step - loss: 102.2309 - rmse: 10.1109 - mse: 102.2309 - val_loss: 108.9915 - val_rmse: 10.4198 - val_mse: 108.9915\n",
      "Epoch 3/50\n",
      "1/1 [==============================] - 0s 170ms/step - loss: 135.4078 - rmse: 11.6365 - mse: 135.4078 - val_loss: 108.9940 - val_rmse: 10.4225 - val_mse: 108.9940\n",
      "Epoch 4/50\n",
      "1/1 [==============================] - 0s 169ms/step - loss: 81.2662 - rmse: 9.0148 - mse: 81.2662 - val_loss: 109.1982 - val_rmse: 10.4438 - val_mse: 109.1982\n",
      "Epoch 5/50\n",
      "1/1 [==============================] - 0s 175ms/step - loss: 110.9188 - rmse: 10.5318 - mse: 110.9188 - val_loss: 109.7094 - val_rmse: 10.4585 - val_mse: 109.7094\n",
      "Epoch 6/50\n",
      "1/1 [==============================] - 0s 173ms/step - loss: 88.4498 - rmse: 9.4048 - mse: 88.4498 - val_loss: 109.5731 - val_rmse: 10.4530 - val_mse: 109.5731\n",
      "Epoch 7/50\n",
      "1/1 [==============================] - 0s 187ms/step - loss: 105.0258 - rmse: 10.2482 - mse: 105.0258 - val_loss: 109.5148 - val_rmse: 10.4530 - val_mse: 109.5148\n",
      "Epoch 8/50\n",
      "1/1 [==============================] - 0s 176ms/step - loss: 94.9619 - rmse: 9.7448 - mse: 94.9619 - val_loss: 111.0073 - val_rmse: 10.5338 - val_mse: 111.0073\n",
      "Epoch 9/50\n",
      "1/1 [==============================] - 0s 174ms/step - loss: 90.2900 - rmse: 9.5021 - mse: 90.2900 - val_loss: 108.2721 - val_rmse: 10.3802 - val_mse: 108.2721\n",
      "Epoch 10/50\n",
      "1/1 [==============================] - 0s 176ms/step - loss: 107.9322 - rmse: 10.3890 - mse: 107.9322 - val_loss: 110.8223 - val_rmse: 10.5255 - val_mse: 110.8223\n",
      "Epoch 11/50\n",
      "1/1 [==============================] - 0s 175ms/step - loss: 101.8963 - rmse: 10.0944 - mse: 101.8963 - val_loss: 109.2837 - val_rmse: 10.4282 - val_mse: 109.2837\n",
      "Epoch 12/50\n",
      "1/1 [==============================] - 0s 179ms/step - loss: 91.9456 - rmse: 9.5888 - mse: 91.9456 - val_loss: 111.3434 - val_rmse: 10.5332 - val_mse: 111.3434\n",
      "Epoch 13/50\n",
      "1/1 [==============================] - 0s 169ms/step - loss: 85.9718 - rmse: 9.2721 - mse: 85.9718 - val_loss: 110.8555 - val_rmse: 10.5229 - val_mse: 110.8555\n",
      "Epoch 14/50\n",
      "1/1 [==============================] - 0s 171ms/step - loss: 96.3891 - rmse: 9.8178 - mse: 96.3891 - val_loss: 110.9611 - val_rmse: 10.5233 - val_mse: 110.9611\n",
      "Epoch 15/50\n",
      "1/1 [==============================] - 0s 174ms/step - loss: 85.7386 - rmse: 9.2595 - mse: 85.7386 - val_loss: 109.0921 - val_rmse: 10.4302 - val_mse: 109.0921\n",
      "Epoch 16/50\n",
      "1/1 [==============================] - 0s 170ms/step - loss: 108.0528 - rmse: 10.3948 - mse: 108.0528 - val_loss: 111.3658 - val_rmse: 10.5488 - val_mse: 111.3658\n",
      "Epoch 17/50\n",
      "1/1 [==============================] - 0s 167ms/step - loss: 79.5751 - rmse: 8.9205 - mse: 79.5751 - val_loss: 111.2104 - val_rmse: 10.5394 - val_mse: 111.2104\n",
      "Epoch 18/50\n",
      "1/1 [==============================] - 0s 170ms/step - loss: 82.9293 - rmse: 9.1066 - mse: 82.9293 - val_loss: 111.0092 - val_rmse: 10.5189 - val_mse: 111.0092\n",
      "Epoch 19/50\n",
      "1/1 [==============================] - 0s 175ms/step - loss: 130.8621 - rmse: 11.4395 - mse: 130.8621 - val_loss: 111.6017 - val_rmse: 10.5534 - val_mse: 111.6017\n",
      "Epoch 20/50\n",
      "1/1 [==============================] - 0s 167ms/step - loss: 82.5561 - rmse: 9.0860 - mse: 82.5561 - val_loss: 110.0670 - val_rmse: 10.4460 - val_mse: 110.0670\n",
      "Epoch 21/50\n",
      "1/1 [==============================] - 0s 164ms/step - loss: 100.2644 - rmse: 10.0132 - mse: 100.2644 - val_loss: 110.1299 - val_rmse: 10.4696 - val_mse: 110.1299\n",
      "Epoch 22/50\n",
      "1/1 [==============================] - 0s 170ms/step - loss: 87.0967 - rmse: 9.3326 - mse: 87.0967 - val_loss: 109.1037 - val_rmse: 10.4296 - val_mse: 109.1037\n",
      "Epoch 23/50\n",
      "1/1 [==============================] - 0s 215ms/step - loss: 112.3737 - rmse: 10.6006 - mse: 112.3737 - val_loss: 110.7886 - val_rmse: 10.5199 - val_mse: 110.7886\n",
      "Epoch 24/50\n",
      "1/1 [==============================] - 0s 168ms/step - loss: 76.5882 - rmse: 8.7515 - mse: 76.5882 - val_loss: 110.1971 - val_rmse: 10.4840 - val_mse: 110.1971\n",
      "Epoch 25/50\n",
      "1/1 [==============================] - 0s 166ms/step - loss: 101.7766 - rmse: 10.0884 - mse: 101.7766 - val_loss: 110.2580 - val_rmse: 10.4870 - val_mse: 110.2580\n",
      "Epoch 26/50\n",
      "1/1 [==============================] - 0s 168ms/step - loss: 78.2072 - rmse: 8.8435 - mse: 78.2072 - val_loss: 109.8320 - val_rmse: 10.4720 - val_mse: 109.8320\n",
      "Epoch 27/50\n",
      "1/1 [==============================] - 0s 168ms/step - loss: 107.2332 - rmse: 10.3553 - mse: 107.2332 - val_loss: 109.5418 - val_rmse: 10.4495 - val_mse: 109.5418\n",
      "Epoch 28/50\n",
      "1/1 [==============================] - 0s 168ms/step - loss: 83.8528 - rmse: 9.1571 - mse: 83.8528 - val_loss: 109.2200 - val_rmse: 10.4292 - val_mse: 109.2200\n",
      "Epoch 29/50\n",
      "1/1 [==============================] - 0s 167ms/step - loss: 84.8109 - rmse: 9.2093 - mse: 84.8109 - val_loss: 111.3571 - val_rmse: 10.5274 - val_mse: 111.3571\n",
      "Epoch 30/50\n",
      "1/1 [==============================] - 0s 166ms/step - loss: 125.0281 - rmse: 11.1816 - mse: 125.0281 - val_loss: 109.4810 - val_rmse: 10.4153 - val_mse: 109.4810\n",
      "Epoch 31/50\n",
      "1/1 [==============================] - 0s 169ms/step - loss: 104.3256 - rmse: 10.2140 - mse: 104.3256 - val_loss: 109.0592 - val_rmse: 10.4336 - val_mse: 109.0592\n",
      "Epoch 32/50\n",
      "1/1 [==============================] - 0s 166ms/step - loss: 93.4408 - rmse: 9.6665 - mse: 93.4408 - val_loss: 112.2305 - val_rmse: 10.5769 - val_mse: 112.2305\n",
      "Epoch 33/50\n",
      "1/1 [==============================] - 0s 166ms/step - loss: 86.8170 - rmse: 9.3176 - mse: 86.8170 - val_loss: 110.0802 - val_rmse: 10.4761 - val_mse: 110.0802\n",
      "Epoch 34/50\n",
      "1/1 [==============================] - 0s 179ms/step - loss: 113.0320 - rmse: 10.6317 - mse: 113.0320 - val_loss: 109.2739 - val_rmse: 10.4417 - val_mse: 109.2739\n",
      "Epoch 35/50\n",
      "1/1 [==============================] - 0s 170ms/step - loss: 111.9535 - rmse: 10.5808 - mse: 111.9535 - val_loss: 109.8236 - val_rmse: 10.4631 - val_mse: 109.8236\n",
      "Epoch 36/50\n",
      "1/1 [==============================] - 0s 170ms/step - loss: 95.9086 - rmse: 9.7933 - mse: 95.9086 - val_loss: 111.1190 - val_rmse: 10.5321 - val_mse: 111.1190\n",
      "Epoch 37/50\n",
      "1/1 [==============================] - 0s 169ms/step - loss: 101.4292 - rmse: 10.0712 - mse: 101.4292 - val_loss: 110.0399 - val_rmse: 10.4754 - val_mse: 110.0399\n",
      "Epoch 38/50\n",
      "1/1 [==============================] - 0s 164ms/step - loss: 74.2301 - rmse: 8.6157 - mse: 74.2301 - val_loss: 111.8539 - val_rmse: 10.5330 - val_mse: 111.8539\n",
      "Epoch 39/50\n",
      "1/1 [==============================] - 0s 167ms/step - loss: 96.3394 - rmse: 9.8153 - mse: 96.3394 - val_loss: 111.0049 - val_rmse: 10.5262 - val_mse: 111.0049\n",
      "Epoch 40/50\n",
      "1/1 [==============================] - 0s 170ms/step - loss: 78.5305 - rmse: 8.8617 - mse: 78.5305 - val_loss: 110.7659 - val_rmse: 10.5065 - val_mse: 110.7659\n",
      "Epoch 41/50\n",
      "1/1 [==============================] - 0s 164ms/step - loss: 94.7381 - rmse: 9.7333 - mse: 94.7381 - val_loss: 111.9610 - val_rmse: 10.5708 - val_mse: 111.9610\n",
      "Epoch 42/50\n",
      "1/1 [==============================] - 0s 169ms/step - loss: 127.3802 - rmse: 11.2863 - mse: 127.3802 - val_loss: 108.4852 - val_rmse: 10.4113 - val_mse: 108.4852\n",
      "Epoch 43/50\n",
      "1/1 [==============================] - 0s 172ms/step - loss: 94.0052 - rmse: 9.6956 - mse: 94.0052 - val_loss: 111.2569 - val_rmse: 10.5418 - val_mse: 111.2569\n",
      "Epoch 44/50\n",
      "1/1 [==============================] - 0s 171ms/step - loss: 101.8534 - rmse: 10.0922 - mse: 101.8534 - val_loss: 109.1582 - val_rmse: 10.4245 - val_mse: 109.1582\n",
      "Epoch 45/50\n",
      "1/1 [==============================] - 0s 166ms/step - loss: 101.2750 - rmse: 10.0635 - mse: 101.2750 - val_loss: 110.1189 - val_rmse: 10.4604 - val_mse: 110.1189\n",
      "Epoch 46/50\n",
      "1/1 [==============================] - 0s 169ms/step - loss: 71.7316 - rmse: 8.4694 - mse: 71.7316 - val_loss: 108.3873 - val_rmse: 10.3956 - val_mse: 108.3873\n",
      "Epoch 47/50\n",
      "1/1 [==============================] - 0s 169ms/step - loss: 91.7866 - rmse: 9.5805 - mse: 91.7866 - val_loss: 109.8750 - val_rmse: 10.4668 - val_mse: 109.8750\n",
      "Epoch 48/50\n",
      "1/1 [==============================] - 0s 167ms/step - loss: 92.0664 - rmse: 9.5951 - mse: 92.0664 - val_loss: 108.3889 - val_rmse: 10.4072 - val_mse: 108.3889\n",
      "Epoch 49/50\n",
      "1/1 [==============================] - 0s 165ms/step - loss: 102.5799 - rmse: 10.1282 - mse: 102.5799 - val_loss: 110.4070 - val_rmse: 10.4899 - val_mse: 110.4070\n",
      "Epoch 50/50\n",
      "1/1 [==============================] - 0s 166ms/step - loss: 95.2199 - rmse: 9.7581 - mse: 95.2199 - val_loss: 110.2165 - val_rmse: 10.4946 - val_mse: 110.2165\n"
     ]
    }
   ],
   "source": [
    "# TODO 3\n",
    "%time\n",
    "steps_per_epoch = NUM_TRAIN_EXAMPLES // (TRAIN_BATCH_SIZE * NUM_EVALS)\n",
    "\n",
    "print(steps_per_epoch)\n",
    "\n",
    "LOGDIR = \"./taxi_trained\"\n",
    "history = model.fit(\n",
    "    x=trainds,\n",
    "    steps_per_epoch=steps_per_epoch,\n",
    "    epochs=NUM_EVALS,\n",
    "    validation_data=evalds,\n",
    "    callbacks=[TensorBoard(LOGDIR)],\n",
    ")"
   ]
  },
  {
   "cell_type": "markdown",
   "metadata": {},
   "source": [
    "### High-level model evaluation"
   ]
  },
  {
   "cell_type": "markdown",
   "metadata": {},
   "source": [
    "Once we've run data through the model, we can call `.summary()` on the model to get a high-level summary of our network. We can also plot the training and evaluation curves for the metrics we computed above. "
   ]
  },
  {
   "cell_type": "code",
   "execution_count": 30,
   "metadata": {},
   "outputs": [
    {
     "name": "stdout",
     "output_type": "stream",
     "text": [
      "Model: \"sequential\"\n",
      "_________________________________________________________________\n",
      " Layer (type)                Output Shape              Param #   \n",
      "=================================================================\n",
      " dense_features (DenseFeatu  multiple                  0         \n",
      " res)                                                            \n",
      "                                                                 \n",
      " h1 (Dense)                  multiple                  192       \n",
      "                                                                 \n",
      " h2 (Dense)                  multiple                  264       \n",
      "                                                                 \n",
      " output (Dense)              multiple                  9         \n",
      "                                                                 \n",
      "=================================================================\n",
      "Total params: 465 (1.82 KB)\n",
      "Trainable params: 465 (1.82 KB)\n",
      "Non-trainable params: 0 (0.00 Byte)\n",
      "_________________________________________________________________\n"
     ]
    }
   ],
   "source": [
    "model.summary()"
   ]
  },
  {
   "cell_type": "markdown",
   "metadata": {},
   "source": [
    "Running `.fit` (or `.fit_generator`) returns a History object which collects all the events recorded during training. Similar to Tensorboard, we can plot the training and validation curves for the model loss and rmse by accessing these elements of the History object."
   ]
  },
  {
   "cell_type": "code",
   "execution_count": 31,
   "metadata": {},
   "outputs": [
    {
     "data": {
      "text/plain": [
       "<AxesSubplot:>"
      ]
     },
     "execution_count": 31,
     "metadata": {},
     "output_type": "execute_result"
    },
    {
     "data": {
      "image/png": "[encoded data removed]",
      "text/plain": [
       "<Figure size 432x288 with 1 Axes>"
      ]
     },
     "metadata": {
      "needs_background": "light"
     },
     "output_type": "display_data"
    }
   ],
   "source": [
    "RMSE_COLS = [\"rmse\", \"val_rmse\"]\n",
    "\n",
    "pd.DataFrame(history.history)[RMSE_COLS].plot()"
   ]
  },
  {
   "cell_type": "code",
   "execution_count": 40,
   "metadata": {},
   "outputs": [
    {
     "data": {
      "text/plain": [
       "<AxesSubplot:>"
      ]
     },
     "execution_count": 40,
     "metadata": {},
     "output_type": "execute_result"
    },
    {
     "data": {
      "image/png": "[encoded data removed]",
      "text/plain": [
       "<Figure size 432x288 with 1 Axes>"
      ]
     },
     "metadata": {
      "needs_background": "light"
     },
     "output_type": "display_data"
    }
   ],
   "source": [
    "LOSS_COLS = [\"loss\", \"val_loss\"]\n",
    "\n",
    "pd.DataFrame(history.history)[LOSS_COLS].plot()"
   ]
  },
  {
   "cell_type": "markdown",
   "metadata": {},
   "source": [
    "# Making predictions with our model"
   ]
  },
  {
   "cell_type": "markdown",
   "metadata": {},
   "source": [
    "To make predictions with our trained model, we can call the [predict method](https://www.tensorflow.org/api_docs/python/tf/keras/Model#predict), passing to it a dictionary of values. The `steps` parameter determines the total number of steps before declaring the prediction round finished. Here since we have just one example, we set `steps=1` (setting `steps=None` would also work). Note, however, that if x is a `tf.data` dataset or a dataset iterator, and steps is set to None, predict will run until the input dataset is exhausted."
   ]
  },
  {
   "cell_type": "code",
   "execution_count": 32,
   "metadata": {},
   "outputs": [
    {
     "name": "stdout",
     "output_type": "stream",
     "text": [
      "1/1 [==============================] - 0s 265ms/step\n"
     ]
    },
    {
     "data": {
      "text/plain": [
       "array([[11.513676]], dtype=float32)"
      ]
     },
     "execution_count": 32,
     "metadata": {},
     "output_type": "execute_result"
    }
   ],
   "source": [
    "model.predict(\n",
    "    x={\n",
    "        \"pickup_longitude\": tf.convert_to_tensor([-73.982683]),\n",
    "        \"pickup_latitude\": tf.convert_to_tensor([40.742104]),\n",
    "        \"dropoff_longitude\": tf.convert_to_tensor([-73.983766]),\n",
    "        \"dropoff_latitude\": tf.convert_to_tensor([40.755174]),\n",
    "        \"passenger_count\": tf.convert_to_tensor([3.0]),\n",
    "    },\n",
    "    steps=1,\n",
    ")"
   ]
  },
  {
   "cell_type": "markdown",
   "metadata": {},
   "source": [
    "# Export and deploy our model"
   ]
  },
  {
   "cell_type": "markdown",
   "metadata": {},
   "source": [
    "Of course, making individual predictions is not realistic, because we can't expect client code to have a model object in memory. For others to use our trained model, we'll have to export our model to a file, and expect client code to instantiate the model from that exported file. \n",
    "\n",
    "We'll export the model to a TensorFlow SavedModel format. Once we have a model in this format, we have lots of ways to \"serve\" the model, from a web application, from JavaScript, from mobile applications, etc."
   ]
  },
  {
   "cell_type": "code",
   "execution_count": 33,
   "metadata": {},
   "outputs": [
    {
     "name": "stdout",
     "output_type": "stream",
     "text": [
      "INFO:tensorflow:Assets written to: ./export/savedmodel/20240726172253/assets\n"
     ]
    },
    {
     "name": "stderr",
     "output_type": "stream",
     "text": [
      "INFO:tensorflow:Assets written to: ./export/savedmodel/20240726172253/assets\n"
     ]
    }
   ],
   "source": [
    "OUTPUT_DIR = \"./export/savedmodel\"\n",
    "shutil.rmtree(OUTPUT_DIR, ignore_errors=True)\n",
    "TIMESTAMP = datetime.datetime.now().strftime(\"%Y%m%d%H%M%S\")\n",
    "\n",
    "EXPORT_PATH = os.path.join(OUTPUT_DIR, TIMESTAMP)\n",
    "\n",
    "tf.saved_model.save(model, EXPORT_PATH)  # with default serving function"
   ]
  },
  {
   "cell_type": "code",
   "execution_count": 34,
   "metadata": {
    "tags": [
     "flake8-noqa-cell"
    ]
   },
   "outputs": [
    {
     "name": "stdout",
     "output_type": "stream",
     "text": [
      "2024-07-26 17:23:00.908005: I tensorflow/core/platform/cpu_feature_guard.cc:182] This TensorFlow binary is optimized to use available CPU instructions in performance-critical operations.\n",
      "To enable the following instructions: AVX2 FMA, in other operations, rebuild TensorFlow with the appropriate compiler flags.\n",
      "The given SavedModel SignatureDef contains the following input(s):\n",
      "  inputs['dropoff_latitude'] tensor_info:\n",
      "      dtype: DT_FLOAT\n",
      "      shape: (-1)\n",
      "      name: serving_default_dropoff_latitude:0\n",
      "  inputs['dropoff_longitude'] tensor_info:\n",
      "      dtype: DT_FLOAT\n",
      "      shape: (-1)\n",
      "      name: serving_default_dropoff_longitude:0\n",
      "  inputs['passenger_count'] tensor_info:\n",
      "      dtype: DT_FLOAT\n",
      "      shape: (-1)\n",
      "      name: serving_default_passenger_count:0\n",
      "  inputs['pickup_latitude'] tensor_info:\n",
      "      dtype: DT_FLOAT\n",
      "      shape: (-1)\n",
      "      name: serving_default_pickup_latitude:0\n",
      "  inputs['pickup_longitude'] tensor_info:\n",
      "      dtype: DT_FLOAT\n",
      "      shape: (-1)\n",
      "      name: serving_default_pickup_longitude:0\n",
      "The given SavedModel SignatureDef contains the following output(s):\n",
      "  outputs['output_1'] tensor_info:\n",
      "      dtype: DT_FLOAT\n",
      "      shape: (-1, 1)\n",
      "      name: StatefulPartitionedCall:0\n",
      "Method name is: tensorflow/serving/predict\n",
      "./export/savedmodel/20240726172253\n",
      "./export/savedmodel/20240726172253/fingerprint.pb\n",
      "./export/savedmodel/20240726172253/variables\n",
      "./export/savedmodel/20240726172253/variables/variables.data-00000-of-00001\n",
      "./export/savedmodel/20240726172253/variables/variables.index\n",
      "./export/savedmodel/20240726172253/saved_model.pb\n",
      "./export/savedmodel/20240726172253/assets\n"
     ]
    }
   ],
   "source": [
    "!saved_model_cli show \\\n",
    "    --tag_set serve \\\n",
    "    --signature_def serving_default \\\n",
    "    --dir {EXPORT_PATH}\n",
    "\n",
    "!find {EXPORT_PATH}\n",
    "os.environ['EXPORT_PATH'] = EXPORT_PATH"
   ]
  },
  {
   "cell_type": "markdown",
   "metadata": {},
   "source": [
    "## Deploy our model to Vertex AI"
   ]
  },
  {
   "cell_type": "markdown",
   "metadata": {},
   "source": [
    "Finally, we will deploy our trained model to Vertex AI and see how we can make online predicitons. "
   ]
  },
  {
   "cell_type": "code",
   "execution_count": 35,
   "metadata": {
    "tags": [
     "flake8-noqa-line-1",
     "flake8-noqa-line-8-E501"
    ]
   },
   "outputs": [
    {
     "ename": "IndexError",
     "evalue": "list index out of range",
     "output_type": "error",
     "traceback": [
      "\u001b[0;31m---------------------------------------------------------------------------\u001b[0m",
      "\u001b[0;31mIndexError\u001b[0m                                Traceback (most recent call last)",
      "\u001b[0;32m<ipython-input-35-b21c686bc240>\u001b[0m in \u001b[0;36m<module>\u001b[0;34m\u001b[0m\n\u001b[1;32m      1\u001b[0m \u001b[0mPROJECT\u001b[0m \u001b[0;34m=\u001b[0m \u001b[0mget_ipython\u001b[0m\u001b[0;34m(\u001b[0m\u001b[0;34m)\u001b[0m\u001b[0;34m.\u001b[0m\u001b[0mgetoutput\u001b[0m\u001b[0;34m(\u001b[0m\u001b[0;34m\"gcloud config list --format 'value(core.project)' 2>/dev/null\"\u001b[0m\u001b[0;34m)\u001b[0m\u001b[0;34m\u001b[0m\u001b[0;34m\u001b[0m\u001b[0m\n\u001b[0;32m----> 2\u001b[0;31m \u001b[0mPROJECT\u001b[0m \u001b[0;34m=\u001b[0m \u001b[0mPROJECT\u001b[0m\u001b[0;34m[\u001b[0m\u001b[0;36m0\u001b[0m\u001b[0;34m]\u001b[0m\u001b[0;34m\u001b[0m\u001b[0;34m\u001b[0m\u001b[0m\n\u001b[0m\u001b[1;32m      3\u001b[0m \u001b[0mBUCKET\u001b[0m \u001b[0;34m=\u001b[0m \u001b[0mPROJECT\u001b[0m\u001b[0;34m\u001b[0m\u001b[0;34m\u001b[0m\u001b[0m\n\u001b[1;32m      4\u001b[0m \u001b[0mREGION\u001b[0m \u001b[0;34m=\u001b[0m \u001b[0;34m\"us-central1\"\u001b[0m\u001b[0;34m\u001b[0m\u001b[0;34m\u001b[0m\u001b[0m\n\u001b[1;32m      5\u001b[0m \u001b[0mMODEL_DISPLAYNAME\u001b[0m \u001b[0;34m=\u001b[0m \u001b[0;34mf\"taxifare-kerase-sequential{TIMESTAMP}\"\u001b[0m\u001b[0;34m\u001b[0m\u001b[0;34m\u001b[0m\u001b[0m\n",
      "\u001b[0;31mIndexError\u001b[0m: list index out of range"
     ]
    }
   ],
   "source": [
    "PROJECT = !gcloud config list --format 'value(core.project)' 2>/dev/null\n",
    "PROJECT = PROJECT[0]\n",
    "BUCKET = PROJECT\n",
    "REGION = \"us-central1\"\n",
    "MODEL_DISPLAYNAME = f\"taxifare-kerase-sequential{TIMESTAMP}\"\n",
    "\n",
    "print(f\"MODEL_DISPLAYNAME: {MODEL_DISPLAYNAME}\")\n",
    "\n",
    "# from https://cloud.google.com/vertex-ai/docs/predictions/pre-built-containers\n",
    "SERVING_CONTAINER_IMAGE_URI = (\n",
    "    \"us-docker.pkg.dev/vertex-ai/prediction/tf2-cpu.2-3:latest\"\n",
    ")\n",
    "\n",
    "os.environ[\"BUCKET\"] = BUCKET\n",
    "os.environ[\"REGION\"] = REGION"
   ]
  },
  {
   "cell_type": "code",
   "execution_count": 45,
   "metadata": {
    "tags": [
     "flake8-noqa-cell"
    ]
   },
   "outputs": [
    {
     "name": "stdout",
     "output_type": "stream",
     "text": [
      "Bucket exists, let's not recreate it.\n"
     ]
    }
   ],
   "source": [
    "%%bash\n",
    "# Create GCS bucket if it doesn't exist already...\n",
    "exists=$(gsutil ls -d | grep -w gs://${BUCKET}/)\n",
    "\n",
    "if [ -n \"$exists\" ]; then\n",
    "    echo -e \"Bucket exists, let's not recreate it.\"\n",
    "else\n",
    "    echo \"Creating a new GCS bucket.\"\n",
    "    gsutil mb -l ${REGION} gs://${BUCKET}\n",
    "    echo \"Here are your current buckets:\"\n",
    "    gsutil ls\n",
    "fi"
   ]
  },
  {
   "cell_type": "code",
   "execution_count": 46,
   "metadata": {
    "tags": [
     "flake8-noqa-cell"
    ]
   },
   "outputs": [
    {
     "name": "stdout",
     "output_type": "stream",
     "text": [
      "Copying file://./export/savedmodel/20220227235931/saved_model.pb [Content-Type=application/octet-stream]...\n",
      "Copying file://./export/savedmodel/20220227235931/variables/variables.data-00000-of-00001 [Content-Type=application/octet-stream]...\n",
      "Copying file://./export/savedmodel/20220227235931/variables/variables.index [Content-Type=application/octet-stream]...\n",
      "/ [3 files][205.3 KiB/205.3 KiB]                                                \n",
      "Operation completed over 3 objects/205.3 KiB.                                    \n"
     ]
    }
   ],
   "source": [
    "!gsutil cp -R $EXPORT_PATH gs://$BUCKET/$MODEL_DISPLAYNAME"
   ]
  },
  {
   "cell_type": "code",
   "execution_count": 47,
   "metadata": {},
   "outputs": [
    {
     "name": "stdout",
     "output_type": "stream",
     "text": [
      "INFO:google.cloud.aiplatform.models:Creating Model\n",
      "INFO:google.cloud.aiplatform.models:Create Model backing LRO: projects/333736501253/locations/us-central1/models/716885979356463104/operations/5773091973229445120\n",
      "INFO:google.cloud.aiplatform.models:Model created. Resource name: projects/333736501253/locations/us-central1/models/716885979356463104\n",
      "INFO:google.cloud.aiplatform.models:To use this Model in another session:\n",
      "INFO:google.cloud.aiplatform.models:model = aiplatform.Model('projects/333736501253/locations/us-central1/models/716885979356463104')\n"
     ]
    }
   ],
   "source": [
    "uploaded_model = aiplatform.Model.upload(\n",
    "    display_name=MODEL_DISPLAYNAME,\n",
    "    artifact_uri=f\"gs://{BUCKET}/{MODEL_DISPLAYNAME}\",\n",
    "    serving_container_image_uri=SERVING_CONTAINER_IMAGE_URI,\n",
    ")"
   ]
  },
  {
   "cell_type": "code",
   "execution_count": 48,
   "metadata": {},
   "outputs": [
    {
     "name": "stdout",
     "output_type": "stream",
     "text": [
      "INFO:google.cloud.aiplatform.models:Creating Endpoint\n",
      "INFO:google.cloud.aiplatform.models:Create Endpoint backing LRO: projects/333736501253/locations/us-central1/endpoints/8266682571480367104/operations/7317826645417525248\n",
      "INFO:google.cloud.aiplatform.models:Endpoint created. Resource name: projects/333736501253/locations/us-central1/endpoints/8266682571480367104\n",
      "INFO:google.cloud.aiplatform.models:To use this Endpoint in another session:\n",
      "INFO:google.cloud.aiplatform.models:endpoint = aiplatform.Endpoint('projects/333736501253/locations/us-central1/endpoints/8266682571480367104')\n",
      "INFO:google.cloud.aiplatform.models:Deploying model to Endpoint : projects/333736501253/locations/us-central1/endpoints/8266682571480367104\n",
      "INFO:google.cloud.aiplatform.models:Deploy Endpoint model backing LRO: projects/333736501253/locations/us-central1/endpoints/8266682571480367104/operations/8110460179834732544\n",
      "INFO:google.cloud.aiplatform.models:Endpoint model deployed. Resource name: projects/333736501253/locations/us-central1/endpoints/8266682571480367104\n"
     ]
    }
   ],
   "source": [
    "MACHINE_TYPE = \"e2-standard-2\"\n",
    "\n",
    "endpoint = uploaded_model.deploy(\n",
    "    machine_type=MACHINE_TYPE,\n",
    "    accelerator_type=None,\n",
    "    accelerator_count=None,\n",
    ")"
   ]
  },
  {
   "cell_type": "code",
   "execution_count": 54,
   "metadata": {},
   "outputs": [],
   "source": [
    "instance = {\n",
    "    \"pickup_longitude\": -73.982683,\n",
    "    \"pickup_latitude\": 40.742104,\n",
    "    \"dropoff_longitude\": -73.983766,\n",
    "    \"dropoff_latitude\": 40.755174,\n",
    "    \"passenger_count\": 3.0,\n",
    "}"
   ]
  },
  {
   "cell_type": "code",
   "execution_count": 55,
   "metadata": {},
   "outputs": [
    {
     "data": {
      "text/plain": [
       "Prediction(predictions=[[12.0436659]], deployed_model_id='1669595212638322688', explanations=None)"
      ]
     },
     "execution_count": 55,
     "metadata": {},
     "output_type": "execute_result"
    }
   ],
   "source": [
    "endpoint.predict([instance])"
   ]
  },
  {
   "cell_type": "markdown",
   "metadata": {},
   "source": [
    "# Cleanup\n",
    "\n",
    "When deploying a model to an endpoint for online prediction, the minimum `min-replica-count` is 1, and it is charged per node hour. So let's delete the endpoint to reduce unnecessary charges. Before we can delete the endpoint, we first undeploy all attached models... "
   ]
  },
  {
   "cell_type": "code",
   "execution_count": 26,
   "metadata": {},
   "outputs": [
    {
     "name": "stdout",
     "output_type": "stream",
     "text": [
      "INFO:google.cloud.aiplatform.models:Undeploying Endpoint model: projects/333736501253/locations/us-central1/endpoints/1809646605737918464\n",
      "INFO:google.cloud.aiplatform.models:Undeploy Endpoint model backing LRO: projects/333736501253/locations/us-central1/endpoints/1809646605737918464/operations/1963046688474005504\n",
      "INFO:google.cloud.aiplatform.models:Endpoint model undeployed. Resource name: projects/333736501253/locations/us-central1/endpoints/1809646605737918464\n"
     ]
    },
    {
     "data": {
      "text/plain": [
       "<google.cloud.aiplatform.models.Endpoint object at 0x7f07e9da8a50> \n",
       "resource name: projects/333736501253/locations/us-central1/endpoints/1809646605737918464"
      ]
     },
     "execution_count": 26,
     "metadata": {},
     "output_type": "execute_result"
    }
   ],
   "source": [
    "endpoint.undeploy_all()"
   ]
  },
  {
   "cell_type": "markdown",
   "metadata": {},
   "source": [
    "...then delete the endpoint."
   ]
  },
  {
   "cell_type": "code",
   "execution_count": 27,
   "metadata": {},
   "outputs": [
    {
     "name": "stdout",
     "output_type": "stream",
     "text": [
      "INFO:google.cloud.aiplatform.base:Deleting Endpoint : projects/333736501253/locations/us-central1/endpoints/1809646605737918464\n",
      "INFO:google.cloud.aiplatform.base:Delete Endpoint  backing LRO: projects/333736501253/locations/us-central1/operations/1264988746231578624\n",
      "INFO:google.cloud.aiplatform.base:Endpoint deleted. . Resource name: projects/333736501253/locations/us-central1/endpoints/1809646605737918464\n"
     ]
    }
   ],
   "source": [
    "endpoint.delete()"
   ]
  },
  {
   "cell_type": "markdown",
   "metadata": {},
   "source": [
    "Copyright 2021 Google Inc. Licensed under the Apache License, Version 2.0 (the \"License\"); you may not use this file except in compliance with the License. You may obtain a copy of the License at http://www.apache.org/licenses/LICENSE-2.0 Unless required by applicable law or agreed to in writing, software distributed under the License is distributed on an \"AS IS\" BASIS, WITHOUT WARRANTIES OR CONDITIONS OF ANY KIND, either express or implied. See the License for the specific language governing permissions and limitations under the License"
   ]
  }
 ],
 "metadata": {
  "environment": {
   "kernel": "python3",
   "name": "tf2-gpu.2-6.m89",
   "type": "gcloud",
   "uri": "gcr.io/deeplearning-platform-release/tf2-gpu.2-6:m89"
  },
  "kernelspec": {
   "display_name": "Python 3",
   "language": "python",
   "name": "python3"
  },
  "language_info": {
   "codemirror_mode": {
    "name": "ipython",
    "version": 3
   },
   "file_extension": ".py",
   "mimetype": "text/x-python",
   "name": "python",
   "nbconvert_exporter": "python",
   "pygments_lexer": "ipython3",
   "version": "3.8.8"
  },
  "toc-autonumbering": true,
  "toc-showmarkdowntxt": false
 },
 "nbformat": 4,
 "nbformat_minor": 4
}
